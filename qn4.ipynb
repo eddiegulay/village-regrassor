{
 "cells": [
  {
   "cell_type": "markdown",
   "metadata": {},
   "source": [
    "## Estimating the Effect of Membership in Farmer Organizations on Household Income\n",
    "\n",
    "### Introduction:\n",
    "This report aims to estimate the effect of membership in a farmer organization on household income using statistical/econometric methods. We will describe the model specification, the methodology used for estimation, present the regression results in a table, interpret these results, and briefly discuss the extent to which assumptions for unbiased estimates of the causal effect are fulfilled."
   ]
  },
  {
   "cell_type": "markdown",
   "metadata": {},
   "source": [
    "### Model Specification:\n",
    "Using a linear regression model to estimate the effect of membership in a farmer organization on household income. The model is specified as follows:  \n",
    "```\n",
    "Income = β0 + β1 ● Farmer_Organization_Membership + ϵ\n",
    "```\n",
    "\n",
    "- Income: represents household income.\n",
    "Farmer_Organization_Membership: is a binary variable (0 for non-members, 1 for members).  \n",
    "- β0 : is the intercept, representing the expected income for non-members.\n",
    "- β1 : is the coefficient of interest, indicating the difference in income between members and non-members.\n",
    "- ϵ: is the error term."
   ]
  },
  {
   "cell_type": "code",
   "execution_count": 1,
   "metadata": {},
   "outputs": [],
   "source": [
    "import pandas as pd\n",
    "import statsmodels.api as sm\n",
    "data = pd.read_csv(\"qn1_corrected_data_exercise.csv\")\n",
    "\n",
    "# Binary variable for Farmer Organization Membership (1 for members, 0 for non-members)\n",
    "data['Farmer_Organization_Membership'] = data['fo']\n",
    "\n",
    "# Dependent (y) and independent (X) variables\n",
    "X = data['Farmer_Organization_Membership']  # Independent variable\n",
    "X = sm.add_constant(X)  # Add a constant (intercept)\n",
    "y = data['income']  # Dependent variable\n"
   ]
  },
  {
   "cell_type": "markdown",
   "metadata": {},
   "source": [
    "### Model Estimation:"
   ]
  },
  {
   "cell_type": "code",
   "execution_count": 2,
   "metadata": {},
   "outputs": [],
   "source": [
    "# Fit the linear regression model\n",
    "model = sm.OLS(y, X).fit()"
   ]
  },
  {
   "cell_type": "markdown",
   "metadata": {},
   "source": [
    "### Regression Results and Interpretation"
   ]
  },
  {
   "cell_type": "code",
   "execution_count": 3,
   "metadata": {},
   "outputs": [
    {
     "name": "stdout",
     "output_type": "stream",
     "text": [
      "                            OLS Regression Results                            \n",
      "==============================================================================\n",
      "Dep. Variable:                 income   R-squared:                       0.057\n",
      "Model:                            OLS   Adj. R-squared:                  0.055\n",
      "Method:                 Least Squares   F-statistic:                     29.10\n",
      "Date:                Sun, 01 Oct 2023   Prob (F-statistic):           1.08e-07\n",
      "Time:                        23:23:54   Log-Likelihood:                -3752.1\n",
      "No. Observations:                 480   AIC:                             7508.\n",
      "Df Residuals:                     478   BIC:                             7517.\n",
      "Df Model:                           1                                         \n",
      "Covariance Type:            nonrobust                                         \n",
      "==================================================================================================\n",
      "                                     coef    std err          t      P>|t|      [0.025      0.975]\n",
      "--------------------------------------------------------------------------------------------------\n",
      "const                            575.5408     31.943     18.018      0.000     512.775     638.307\n",
      "Farmer_Organization_Membership   337.6592     62.595      5.394      0.000     214.664     460.654\n",
      "==============================================================================\n",
      "Omnibus:                      252.566   Durbin-Watson:                   2.175\n",
      "Prob(Omnibus):                  0.000   Jarque-Bera (JB):             1328.988\n",
      "Skew:                           2.354   Prob(JB):                    2.59e-289\n",
      "Kurtosis:                       9.655   Cond. No.                         2.47\n",
      "==============================================================================\n",
      "\n",
      "Notes:\n",
      "[1] Standard Errors assume that the covariance matrix of the errors is correctly specified.\n"
     ]
    }
   ],
   "source": [
    "# Get the regression results\n",
    "results = model.summary()\n",
    "\n",
    "# Print the results\n",
    "print(results)\n"
   ]
  },
  {
   "cell_type": "markdown",
   "metadata": {},
   "source": [
    "### Interpretation of Regression Results:\n",
    "The coefficient for **Farmer_Organization_Membership** is 337.6592, with a *p-value* of 0.000, indicating that \n",
    "``` membership in a farmer organization has a statistically significant positive effect on household income ```.  \n",
    "The constant (intercept) represents the expected income for non-members of farmer organizations, which is 575.5408.  \n",
    "The R-squared value is 0.057, \n",
    "``` suggesting that the model explains approximately 5.7% of the variance in household income. ```\n",
    "\n",
    "#### This analysis provides insights into the effect of membership in farmer organizations on household income, suggesting a positive association between membership and income levels.\n"
   ]
  },
  {
   "cell_type": "markdown",
   "metadata": {},
   "source": [
    "## Conclusion\n",
    "\n",
    "## Research Question\n",
    "Our study aimed to investigate whether joining a farmer group has an impact on household income. We wanted to understand if being part of such a group could lead to higher earnings.\n",
    "\n",
    "## Methodology\n",
    "To answer our question, we used a statistical technique called linear regression. It helps us see if there's a connection between two things. In our case, we were interested in two factors for each person:\n",
    "- Whether they are a member of a farmer group (yes or no).\n",
    "- How much money they earn.\n",
    "\n",
    "## Key Findings\n",
    "Our analysis revealed that individuals who are part of a farmer group tend to have higher household incomes. On average, they earn more than those who are not part of such a group.\n",
    "\n",
    "## Interpretation\n",
    "This suggests that joining a farmer group might have a positive effect on household income. This could be due to various factors, such as gaining access to knowledge and resources that help improve farming practices and ultimately increase earnings."
   ]
  }
 ],
 "metadata": {
  "kernelspec": {
   "display_name": "Python 3",
   "language": "python",
   "name": "python3"
  },
  "language_info": {
   "codemirror_mode": {
    "name": "ipython",
    "version": 3
   },
   "file_extension": ".py",
   "mimetype": "text/x-python",
   "name": "python",
   "nbconvert_exporter": "python",
   "pygments_lexer": "ipython3",
   "version": "3.11.4"
  },
  "orig_nbformat": 4
 },
 "nbformat": 4,
 "nbformat_minor": 2
}
