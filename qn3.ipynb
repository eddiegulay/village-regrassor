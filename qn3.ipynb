{
 "cells": [
  {
   "cell_type": "markdown",
   "metadata": {},
   "source": [
    "## Proportions of Farmer Organization Members by Village\n",
    "\n",
    "### Introduction:\n",
    "This notebook focuses on calculating the proportion of households in each village that are members of a farmer organization and visualizing this relationship. The dataset contains information about household membership status and the village to which each household belongs."
   ]
  },
  {
   "cell_type": "code",
   "execution_count": 6,
   "metadata": {},
   "outputs": [
    {
     "data": {
      "text/html": [
       "<div>\n",
       "<style scoped>\n",
       "    .dataframe tbody tr th:only-of-type {\n",
       "        vertical-align: middle;\n",
       "    }\n",
       "\n",
       "    .dataframe tbody tr th {\n",
       "        vertical-align: top;\n",
       "    }\n",
       "\n",
       "    .dataframe thead th {\n",
       "        text-align: right;\n",
       "    }\n",
       "</style>\n",
       "<table border=\"1\" class=\"dataframe\">\n",
       "  <thead>\n",
       "    <tr style=\"text-align: right;\">\n",
       "      <th></th>\n",
       "      <th>hhNum</th>\n",
       "      <th>village</th>\n",
       "      <th>sex</th>\n",
       "      <th>age</th>\n",
       "      <th>educ</th>\n",
       "      <th>hhSize</th>\n",
       "      <th>landOwned</th>\n",
       "      <th>landCultivated</th>\n",
       "      <th>fo</th>\n",
       "      <th>income</th>\n",
       "    </tr>\n",
       "  </thead>\n",
       "  <tbody>\n",
       "    <tr>\n",
       "      <th>0</th>\n",
       "      <td>1</td>\n",
       "      <td>A</td>\n",
       "      <td>male</td>\n",
       "      <td>68.705267</td>\n",
       "      <td>3</td>\n",
       "      <td>6</td>\n",
       "      <td>9.8</td>\n",
       "      <td>3.7</td>\n",
       "      <td>0</td>\n",
       "      <td>278.0</td>\n",
       "    </tr>\n",
       "    <tr>\n",
       "      <th>1</th>\n",
       "      <td>2</td>\n",
       "      <td>A</td>\n",
       "      <td>male</td>\n",
       "      <td>82.634070</td>\n",
       "      <td>1</td>\n",
       "      <td>5</td>\n",
       "      <td>7.1</td>\n",
       "      <td>7.0</td>\n",
       "      <td>1</td>\n",
       "      <td>936.0</td>\n",
       "    </tr>\n",
       "    <tr>\n",
       "      <th>2</th>\n",
       "      <td>3</td>\n",
       "      <td>A</td>\n",
       "      <td>male</td>\n",
       "      <td>24.376793</td>\n",
       "      <td>6</td>\n",
       "      <td>5</td>\n",
       "      <td>9.1</td>\n",
       "      <td>5.4</td>\n",
       "      <td>0</td>\n",
       "      <td>584.0</td>\n",
       "    </tr>\n",
       "    <tr>\n",
       "      <th>3</th>\n",
       "      <td>4</td>\n",
       "      <td>A</td>\n",
       "      <td>male</td>\n",
       "      <td>75.388073</td>\n",
       "      <td>1</td>\n",
       "      <td>5</td>\n",
       "      <td>7.6</td>\n",
       "      <td>5.6</td>\n",
       "      <td>0</td>\n",
       "      <td>567.0</td>\n",
       "    </tr>\n",
       "    <tr>\n",
       "      <th>4</th>\n",
       "      <td>5</td>\n",
       "      <td>A</td>\n",
       "      <td>male</td>\n",
       "      <td>71.947722</td>\n",
       "      <td>1</td>\n",
       "      <td>5</td>\n",
       "      <td>13.1</td>\n",
       "      <td>3.7</td>\n",
       "      <td>0</td>\n",
       "      <td>181.0</td>\n",
       "    </tr>\n",
       "  </tbody>\n",
       "</table>\n",
       "</div>"
      ],
      "text/plain": [
       "   hhNum village   sex        age  educ  hhSize  landOwned  landCultivated  \\\n",
       "0      1       A  male  68.705267     3       6        9.8             3.7   \n",
       "1      2       A  male  82.634070     1       5        7.1             7.0   \n",
       "2      3       A  male  24.376793     6       5        9.1             5.4   \n",
       "3      4       A  male  75.388073     1       5        7.6             5.6   \n",
       "4      5       A  male  71.947722     1       5       13.1             3.7   \n",
       "\n",
       "   fo  income  \n",
       "0   0   278.0  \n",
       "1   1   936.0  \n",
       "2   0   584.0  \n",
       "3   0   567.0  \n",
       "4   0   181.0  "
      ]
     },
     "execution_count": 6,
     "metadata": {},
     "output_type": "execute_result"
    }
   ],
   "source": [
    "import pandas as pd\n",
    "import matplotlib.pyplot as plt\n",
    "data = pd.read_csv(\"qn1_corrected_data_exercise.csv\")\n",
    "data.head()"
   ]
  },
  {
   "cell_type": "markdown",
   "metadata": {},
   "source": [
    "### Proportion Calculation:\n",
    "\n",
    "1. First, the data was grouped by village and farmer organization membership status (1 for members and 0 for non-members).\n",
    "2. For each village, the proportion of members was calculated as the number of member households divided by the total number of households in that village."
   ]
  },
  {
   "cell_type": "code",
   "execution_count": 2,
   "metadata": {},
   "outputs": [],
   "source": [
    "village_fo_proportions = data.groupby(['village', 'fo']).size().unstack(fill_value=0)\n",
    "village_fo_proportions['Proportion of Members'] = village_fo_proportions[1] / (village_fo_proportions[0] + village_fo_proportions[1])"
   ]
  },
  {
   "cell_type": "code",
   "execution_count": 11,
   "metadata": {},
   "outputs": [
    {
     "data": {
      "text/html": [
       "<div>\n",
       "<style scoped>\n",
       "    .dataframe tbody tr th:only-of-type {\n",
       "        vertical-align: middle;\n",
       "    }\n",
       "\n",
       "    .dataframe tbody tr th {\n",
       "        vertical-align: top;\n",
       "    }\n",
       "\n",
       "    .dataframe thead th {\n",
       "        text-align: right;\n",
       "    }\n",
       "</style>\n",
       "<table border=\"1\" class=\"dataframe\">\n",
       "  <thead>\n",
       "    <tr style=\"text-align: right;\">\n",
       "      <th>fo</th>\n",
       "      <th>0</th>\n",
       "      <th>1</th>\n",
       "      <th>Proportion of Members</th>\n",
       "    </tr>\n",
       "  </thead>\n",
       "  <tbody>\n",
       "    <tr>\n",
       "      <th>count</th>\n",
       "      <td>26.000000</td>\n",
       "      <td>26.000000</td>\n",
       "      <td>26.000000</td>\n",
       "    </tr>\n",
       "    <tr>\n",
       "      <th>mean</th>\n",
       "      <td>13.653846</td>\n",
       "      <td>4.807692</td>\n",
       "      <td>0.267723</td>\n",
       "    </tr>\n",
       "    <tr>\n",
       "      <th>std</th>\n",
       "      <td>4.344581</td>\n",
       "      <td>2.514267</td>\n",
       "      <td>0.134266</td>\n",
       "    </tr>\n",
       "    <tr>\n",
       "      <th>min</th>\n",
       "      <td>8.000000</td>\n",
       "      <td>0.000000</td>\n",
       "      <td>0.000000</td>\n",
       "    </tr>\n",
       "    <tr>\n",
       "      <th>25%</th>\n",
       "      <td>10.000000</td>\n",
       "      <td>4.000000</td>\n",
       "      <td>0.202632</td>\n",
       "    </tr>\n",
       "    <tr>\n",
       "      <th>50%</th>\n",
       "      <td>14.000000</td>\n",
       "      <td>5.000000</td>\n",
       "      <td>0.285714</td>\n",
       "    </tr>\n",
       "    <tr>\n",
       "      <th>75%</th>\n",
       "      <td>16.000000</td>\n",
       "      <td>6.000000</td>\n",
       "      <td>0.358235</td>\n",
       "    </tr>\n",
       "    <tr>\n",
       "      <th>max</th>\n",
       "      <td>21.000000</td>\n",
       "      <td>9.000000</td>\n",
       "      <td>0.466667</td>\n",
       "    </tr>\n",
       "  </tbody>\n",
       "</table>\n",
       "</div>"
      ],
      "text/plain": [
       "fo             0          1  Proportion of Members\n",
       "count  26.000000  26.000000              26.000000\n",
       "mean   13.653846   4.807692               0.267723\n",
       "std     4.344581   2.514267               0.134266\n",
       "min     8.000000   0.000000               0.000000\n",
       "25%    10.000000   4.000000               0.202632\n",
       "50%    14.000000   5.000000               0.285714\n",
       "75%    16.000000   6.000000               0.358235\n",
       "max    21.000000   9.000000               0.466667"
      ]
     },
     "execution_count": 11,
     "metadata": {},
     "output_type": "execute_result"
    }
   ],
   "source": [
    "village_fo_proportions.describe()"
   ]
  },
  {
   "cell_type": "markdown",
   "metadata": {},
   "source": [
    "### Creating a Figure (Bar Plot):\n",
    "\n",
    "To illustrate the relationship between household membership in a farmer organization and the proportion of households in each village that are members, a stacked bar chart is suitable for the task.  \n",
    "Each village is represented on the x-axis, and the y-axis represents the proportion of households in each village that are members.\n",
    "Stacked bars for each village show the proportion of non-members (blue) and members (orange).\n",
    "\n",
    "### Interpretation of the Bar Plot:\n",
    "  \n",
    "The bar plot provides a clear visual representation of how the proportion of farmer organization members varies across different villages.\n",
    "By comparing the heights of the blue and orange segments within each village, we can easily observe the proportion of non-members and members.\n",
    "***Differences in bar heights between villages indicate variations in membership*** proportions, allowing for a straightforward comparison."
   ]
  },
  {
   "cell_type": "code",
   "execution_count": 10,
   "metadata": {},
   "outputs": [
    {
     "data": {
      "text/plain": [
       "<Figure size 1200x500 with 0 Axes>"
      ]
     },
     "metadata": {},
     "output_type": "display_data"
    },
    {
     "data": {
      "image/png": "[encoded data removed]",
      "text/plain": [
       "<Figure size 640x480 with 1 Axes>"
      ]
     },
     "metadata": {},
     "output_type": "display_data"
    }
   ],
   "source": [
    "# Create a bar plot\n",
    "plt.figure(figsize=(12, 5))\n",
    "village_fo_proportions[[0,1]].plot(kind='bar', stacked=True, color=['blue', 'orange'])\n",
    "plt.xlabel(\"village\")\n",
    "plt.ylabel(\"Proportion of Household Members\")\n",
    "plt.title(\"Proportion of Household Members in Farmer Organizations by village\")\n",
    "plt.xticks(rotation=0)\n",
    "plt.legend([\"Non-Member\", \"Member\"])\n",
    "plt.tight_layout()\n",
    "plt.show()"
   ]
  }
 ],
 "metadata": {
  "kernelspec": {
   "display_name": "Python 3",
   "language": "python",
   "name": "python3"
  },
  "language_info": {
   "codemirror_mode": {
    "name": "ipython",
    "version": 3
   },
   "file_extension": ".py",
   "mimetype": "text/x-python",
   "name": "python",
   "nbconvert_exporter": "python",
   "pygments_lexer": "ipython3",
   "version": "3.11.4"
  },
  "orig_nbformat": 4
 },
 "nbformat": 4,
 "nbformat_minor": 2
}
