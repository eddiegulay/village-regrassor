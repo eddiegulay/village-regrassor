{
 "cells": [
  {
   "cell_type": "markdown",
   "metadata": {},
   "source": [
    "### Introduction\n",
    "\n",
    "This notebook documents the data preparation process for the provided dataset, which is based on a random sample of farm households in a district in Tanzania. The dataset includes information about household characteristics, land ownership, and income. The objective of this data preparation is to correct errors in the income data for villages \"D\" and \"G,\" where income is reported in TZS instead of 1,000 TZS.\n"
   ]
  },
  {
   "cell_type": "code",
   "execution_count": 1,
   "metadata": {},
   "outputs": [
    {
     "data": {
      "text/html": [
       "<div>\n",
       "<style scoped>\n",
       "    .dataframe tbody tr th:only-of-type {\n",
       "        vertical-align: middle;\n",
       "    }\n",
       "\n",
       "    .dataframe tbody tr th {\n",
       "        vertical-align: top;\n",
       "    }\n",
       "\n",
       "    .dataframe thead th {\n",
       "        text-align: right;\n",
       "    }\n",
       "</style>\n",
       "<table border=\"1\" class=\"dataframe\">\n",
       "  <thead>\n",
       "    <tr style=\"text-align: right;\">\n",
       "      <th></th>\n",
       "      <th>hhNum</th>\n",
       "      <th>village</th>\n",
       "      <th>sex</th>\n",
       "      <th>age</th>\n",
       "      <th>educ</th>\n",
       "      <th>hhSize</th>\n",
       "      <th>landOwned</th>\n",
       "      <th>landCultivated</th>\n",
       "      <th>fo</th>\n",
       "      <th>income</th>\n",
       "    </tr>\n",
       "  </thead>\n",
       "  <tbody>\n",
       "    <tr>\n",
       "      <th>0</th>\n",
       "      <td>1</td>\n",
       "      <td>A</td>\n",
       "      <td>male</td>\n",
       "      <td>68.705267</td>\n",
       "      <td>3</td>\n",
       "      <td>6</td>\n",
       "      <td>9.8</td>\n",
       "      <td>3.7</td>\n",
       "      <td>0</td>\n",
       "      <td>278.0</td>\n",
       "    </tr>\n",
       "    <tr>\n",
       "      <th>1</th>\n",
       "      <td>2</td>\n",
       "      <td>A</td>\n",
       "      <td>male</td>\n",
       "      <td>82.634070</td>\n",
       "      <td>1</td>\n",
       "      <td>5</td>\n",
       "      <td>7.1</td>\n",
       "      <td>7.0</td>\n",
       "      <td>1</td>\n",
       "      <td>936.0</td>\n",
       "    </tr>\n",
       "    <tr>\n",
       "      <th>2</th>\n",
       "      <td>3</td>\n",
       "      <td>A</td>\n",
       "      <td>male</td>\n",
       "      <td>24.376793</td>\n",
       "      <td>6</td>\n",
       "      <td>5</td>\n",
       "      <td>9.1</td>\n",
       "      <td>5.4</td>\n",
       "      <td>0</td>\n",
       "      <td>584.0</td>\n",
       "    </tr>\n",
       "    <tr>\n",
       "      <th>3</th>\n",
       "      <td>4</td>\n",
       "      <td>A</td>\n",
       "      <td>male</td>\n",
       "      <td>75.388073</td>\n",
       "      <td>1</td>\n",
       "      <td>5</td>\n",
       "      <td>7.6</td>\n",
       "      <td>5.6</td>\n",
       "      <td>0</td>\n",
       "      <td>567.0</td>\n",
       "    </tr>\n",
       "    <tr>\n",
       "      <th>4</th>\n",
       "      <td>5</td>\n",
       "      <td>A</td>\n",
       "      <td>male</td>\n",
       "      <td>71.947722</td>\n",
       "      <td>1</td>\n",
       "      <td>5</td>\n",
       "      <td>13.1</td>\n",
       "      <td>3.7</td>\n",
       "      <td>0</td>\n",
       "      <td>181.0</td>\n",
       "    </tr>\n",
       "  </tbody>\n",
       "</table>\n",
       "</div>"
      ],
      "text/plain": [
       "   hhNum village   sex        age  educ  hhSize  landOwned  landCultivated  \\\n",
       "0      1       A  male  68.705267     3       6        9.8             3.7   \n",
       "1      2       A  male  82.634070     1       5        7.1             7.0   \n",
       "2      3       A  male  24.376793     6       5        9.1             5.4   \n",
       "3      4       A  male  75.388073     1       5        7.6             5.6   \n",
       "4      5       A  male  71.947722     1       5       13.1             3.7   \n",
       "\n",
       "   fo  income  \n",
       "0   0   278.0  \n",
       "1   1   936.0  \n",
       "2   0   584.0  \n",
       "3   0   567.0  \n",
       "4   0   181.0  "
      ]
     },
     "execution_count": 1,
     "metadata": {},
     "output_type": "execute_result"
    }
   ],
   "source": [
    "import pandas as pd\n",
    "data = pd.read_csv(\"data_exercise.csv\")\n",
    "data.head()"
   ]
  },
  {
   "cell_type": "markdown",
   "metadata": {},
   "source": [
    "### Data Correction:\n",
    "To correct the income data errors in villages \"D\" and \"G,\":\n",
    "\n",
    "1. For villages \"D\" and \"G,\" the income values were divided by 1,000 to convert them to 1,000 TZS. Other village data was left unchanged.\n",
    "\n"
   ]
  },
  {
   "cell_type": "code",
   "execution_count": 3,
   "metadata": {},
   "outputs": [],
   "source": [
    "data.loc[data['village'].isin(['D', 'G']), 'income'] /= 1000"
   ]
  },
  {
   "cell_type": "markdown",
   "metadata": {},
   "source": [
    "### Storing the updated dataframe\n",
    "The income data in villages \"D\" and \"G\" has been corrected to ensure uniformity with other village."
   ]
  },
  {
   "cell_type": "code",
   "execution_count": 4,
   "metadata": {},
   "outputs": [],
   "source": [
    "data.to_csv(\"qn1_corrected_data_exercise.csv\", index=False)"
   ]
  }
 ],
 "metadata": {
  "kernelspec": {
   "display_name": "Python 3",
   "language": "python",
   "name": "python3"
  },
  "language_info": {
   "codemirror_mode": {
    "name": "ipython",
    "version": 3
   },
   "file_extension": ".py",
   "mimetype": "text/x-python",
   "name": "python",
   "nbconvert_exporter": "python",
   "pygments_lexer": "ipython3",
   "version": "3.11.4"
  },
  "orig_nbformat": 4
 },
 "nbformat": 4,
 "nbformat_minor": 2
}
